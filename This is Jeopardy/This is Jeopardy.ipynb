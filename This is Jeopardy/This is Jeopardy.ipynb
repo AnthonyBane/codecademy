{
 "cells": [
  {
   "cell_type": "markdown",
   "metadata": {},
   "source": [
    "# This is Jeopardy!"
   ]
  },
  {
   "cell_type": "markdown",
   "metadata": {},
   "source": [
    "#### Overview"
   ]
  },
  {
   "cell_type": "markdown",
   "metadata": {},
   "source": [
    "This project is slightly different than others you have encountered thus far. Instead of a step-by-step tutorial, this project contains a series of open-ended requirements which describe the project you'll be building. There are many possible ways to correctly fulfill all of these requirements, and you should expect to use the internet, Codecademy, and/or other resources when you encounter a problem that you cannot easily solve."
   ]
  },
  {
   "cell_type": "markdown",
   "metadata": {},
   "source": [
    "#### Project Goals"
   ]
  },
  {
   "cell_type": "markdown",
   "metadata": {},
   "source": [
    "You will work to write several functions that investigate a dataset of _Jeopardy!_ questions and answers. Filter the dataset for topics that you're interested in, compute the average difficulty of those questions, and train to become the next Jeopardy champion!"
   ]
  },
  {
   "cell_type": "markdown",
   "metadata": {},
   "source": [
    "## Prerequisites"
   ]
  },
  {
   "cell_type": "markdown",
   "metadata": {},
   "source": [
    "In order to complete this project, you should have completed the Pandas lessons in the <a href=\"https://www.codecademy.com/learn/paths/analyze-data-with-python\">Analyze Data with Python Skill Path</a>. You can also find those lessons in the <a href=\"https://www.codecademy.com/learn/data-processing-pandas\">Data Analysis with Pandas course</a> or the <a href=\"https://www.codecademy.com/learn/paths/data-science/\">Data Scientist Career Path</a>.\n",
    "\n",
    "Finally, the <a href=\"https://www.codecademy.com/learn/practical-data-cleaning\">Practical Data Cleaning</a> course may also be helpful."
   ]
  },
  {
   "cell_type": "markdown",
   "metadata": {},
   "source": [
    "## Project Requirements"
   ]
  },
  {
   "cell_type": "markdown",
   "metadata": {},
   "source": [
    "1. We've provided a csv file containing data about the game show _Jeopardy!_ in a file named `jeopardy.csv`. Load the data into a DataFrame and investigate its contents. Try to print out specific columns.\n",
    "\n",
    "   Note that in order to make this project as \"real-world\" as possible, we haven't modified the data at all - we're giving it to you exactly how we found it. As a result, this data isn't as \"clean\" as the datasets you normally find on Codecademy. More specifically, there's something odd about the column names. After you figure out the problem with the column names, you may want to rename them to make your life easier for the rest of the project.\n",
    "   \n",
    "   In order to display the full contents of a column, we've added this line of code for you:\n",
    "   \n",
    "   ```py\n",
    "   pd.set_option('display.max_colwidth', None)\n",
    "   ```"
   ]
  },
  {
   "cell_type": "code",
   "execution_count": 7,
   "metadata": {},
   "outputs": [
    {
     "name": "stdout",
     "output_type": "stream",
     "text": [
      "Index(['Show Number', ' Air Date', ' Round', ' Category', ' Value',\n",
      "       ' Question', ' Answer'],\n",
      "      dtype='object')\n",
      "Index(['Show Number', 'Air Date', 'Round', 'Category', 'Value', 'Question',\n",
      "       'Answer'],\n",
      "      dtype='object')\n"
     ]
    }
   ],
   "source": [
    "import pandas as pd\n",
    "pd.set_option('display.max_colwidth', None)\n",
    "\n",
    "jeopardy_data = pd.read_csv(\"jeopardy.csv\")\n",
    "\n",
    "# print(jeopardy_data.head())\n",
    "print(jeopardy_data.columns)\n",
    "\n",
    "jeopardy_data = jeopardy_data.rename(columns={\" Air Date\": \"Air Date\", \" Round\": \"Round\", \" Category\": \"Category\", \" Value\": \"Value\", \" Question\": \"Question\", \" Answer\": \"Answer\"})\n",
    "\n",
    "print(jeopardy_data.columns)"
   ]
  },
  {
   "cell_type": "markdown",
   "metadata": {},
   "source": [
    "2. Write a function that filters the dataset for questions that contains all of the words in a list of words. For example, when the list `[\"King\", \"England\"]` was passed to our function, the function returned a DataFrame of 49 rows. Every row had the strings `\"King\"` and `\"England\"` somewhere in its `\" Question\"`.\n",
    "\n",
    "   Test your function by printing out the column containing the question of each row of the dataset."
   ]
  },
  {
   "cell_type": "code",
   "execution_count": 21,
   "metadata": {},
   "outputs": [
    {
     "name": "stdout",
     "output_type": "stream",
     "text": [
      "        Show Number    Air Date             Round                    Category  \\\n",
      "34             4680  2004-12-31  Double Jeopardy!                 \"X\"s & \"O\"s   \n",
      "40             4680  2004-12-31  Double Jeopardy!  DR. SEUSS AT THE MULTIPLEX   \n",
      "50             4680  2004-12-31  Double Jeopardy!  DR. SEUSS AT THE MULTIPLEX   \n",
      "56             5957  2010-07-06         Jeopardy!               GEOGRAPHY \"E\"   \n",
      "72             5957  2010-07-06         Jeopardy!                LET'S BOUNCE   \n",
      "...             ...         ...               ...                         ...   \n",
      "216777         5070  2006-09-29  Double Jeopardy!             ANCIENT HISTORY   \n",
      "216787         5070  2006-09-29  Double Jeopardy!    TALES OF E.T.A. HOFFMANN   \n",
      "216789         5070  2006-09-29  Double Jeopardy!             ANCIENT HISTORY   \n",
      "216856         5195  2007-03-23  Double Jeopardy!            HAIL TO THE CHEF   \n",
      "216916         4999  2006-05-11  Double Jeopardy!                  QUOTATIONS   \n",
      "\n",
      "         Value  \\\n",
      "34        $400   \n",
      "40       $1200   \n",
      "50       $2000   \n",
      "56        $200   \n",
      "72        $600   \n",
      "...        ...   \n",
      "216777    $400   \n",
      "216787  $2,000   \n",
      "216789   $1200   \n",
      "216856   $1600   \n",
      "216916  $2,200   \n",
      "\n",
      "                                                                                                                                                                                 Question  \\\n",
      "34                                                                                  Around 100 A.D. Tacitus wrote a book on how this art of persuasive speaking had declined since Cicero   \n",
      "40      <a href=\"http://www.j-archive.com/media/2004-12-31_DJ_26.mp3\">Ripped from today's headlines, he was a turtle king gone mad; Mack was the one good turtle who'd bring him down</a>   \n",
      "50                    <a href=\"http://www.j-archive.com/media/2004-12-31_DJ_24.mp3\">\"500 Hats\"... 500 ways to die.  On July 4th, this young boy will defy a king... & become a legend</a>   \n",
      "56                                                                                                                                         It's the largest kingdom in the United Kingdom   \n",
      "72                                                                                            In this kid's game, you bounce a small rubber ball while picking up 6-pronged metal objects   \n",
      "...                                                                                                                                                                                   ...   \n",
      "216777                                                                 The first one of these tombs was built about 2650 B.C. by Imhotep for King Zoser & rose about 200 feet using steps   \n",
      "216787                                                                                   A Hoffmann tale title lost the words \"And The Mouse King\" when it became this Tchaikovsky ballet   \n",
      "216789                                                                                 This kingdom of England grew from 2 settlements, one founded around 495 by Cerdic & his son Cynric   \n",
      "216856                                        You can cook like <a href=\"http://www.j-archive.com/media/2007-03-23_DJ_24.jpg\" target=\"_blank\">this</a> man who wrote \"The Joy of Wokking\"   \n",
      "216916                                                                                                          Oscar Wilde called this 4-letter word \"the curse of the drinking classes\"   \n",
      "\n",
      "                                   Answer  \n",
      "34                                oratory  \n",
      "40                                 Yertle  \n",
      "50                    Bartholomew Cubbins  \n",
      "56                                England  \n",
      "72                                  jacks  \n",
      "...                                   ...  \n",
      "216777  a pyramid (the pyramids accepted)  \n",
      "216787                     The Nutcracker  \n",
      "216789                             Wessex  \n",
      "216856                       (Martin) Yan  \n",
      "216916                               work  \n",
      "\n",
      "[7409 rows x 7 columns]\n"
     ]
    }
   ],
   "source": [
    "def filter(keywords, data):\n",
    "    \n",
    "    filter = lambda x: all(word.lower() in x.lower() for word in keywords)\n",
    "    \n",
    "    return data.loc[data[\"Question\"].apply(filter)]\n",
    "\n",
    "# print(filter([\"King\",\"England\"], jeopardy_data))\n",
    "print(filter([\"King\"], jeopardy_data))\n",
    "# print(filter([\"king\"], jeopardy_data))"
   ]
  },
  {
   "cell_type": "markdown",
   "metadata": {},
   "source": [
    "3. Test your original function with a few different sets of words to try to find some ways your function breaks. Edit your function so it is more robust.\n",
    "\n",
    "   For example, think about capitalization. We probably want to find questions that contain the word `\"King\"` or `\"king\"`.\n",
    "   \n",
    "   You may also want to check to make sure you don't find rows that contain substrings of your given words. For example, our function found a question that didn't contain the word `\"king\"`, however it did contain the word `\"viking\"` &mdash; it found the `\"king\"` inside `\"viking\"`. Note that this also comes with some drawbacks &mdash; you would no longer find questions that contained words like `\"England's\"`."
   ]
  },
  {
   "cell_type": "code",
   "execution_count": null,
   "metadata": {},
   "outputs": [],
   "source": []
  },
  {
   "cell_type": "markdown",
   "metadata": {},
   "source": [
    "4. We may want to eventually compute aggregate statistics, like `.mean()` on the `\" Value\"` column. But right now, the values in that column are strings. Convert the`\" Value\"` column to floats. If you'd like to, you can create a new column with float values.\n",
    "\n",
    "   Now that you can filter the dataset of question, use your new column that contains the float values of each question to find the \"difficulty\" of certain topics. For example, what is the average value of questions that contain the word `\"King\"`?\n",
    "   \n",
    "   Make sure to use the dataset that contains the float values as the dataset you use in your filtering function."
   ]
  },
  {
   "cell_type": "code",
   "execution_count": 27,
   "metadata": {},
   "outputs": [
    {
     "name": "stdout",
     "output_type": "stream",
     "text": [
      "   Show Number    Air Date      Round                         Category Value  \\\n",
      "0         4680  2004-12-31  Jeopardy!                          HISTORY  $200   \n",
      "1         4680  2004-12-31  Jeopardy!  ESPN's TOP 10 ALL-TIME ATHLETES  $200   \n",
      "2         4680  2004-12-31  Jeopardy!      EVERYBODY TALKS ABOUT IT...  $200   \n",
      "3         4680  2004-12-31  Jeopardy!                 THE COMPANY LINE  $200   \n",
      "4         4680  2004-12-31  Jeopardy!              EPITAPHS & TRIBUTES  $200   \n",
      "\n",
      "                                                                                                      Question  \\\n",
      "0             For the last 8 years of his life, Galileo was under house arrest for espousing this man's theory   \n",
      "1  No. 2: 1912 Olympian; football star at Carlisle Indian School; 6 MLB seasons with the Reds, Giants & Braves   \n",
      "2                     The city of Yuma in this state has a record average of 4,055 hours of sunshine each year   \n",
      "3                         In 1963, live on \"The Art Linkletter Show\", this company served its billionth burger   \n",
      "4     Signer of the Dec. of Indep., framer of the Constitution of Mass., second President of the United States   \n",
      "\n",
      "       Answer Value (Float)  \n",
      "0  Copernicus           200  \n",
      "1  Jim Thorpe           200  \n",
      "2     Arizona           200  \n",
      "3  McDonald's           200  \n",
      "4  John Adams           200  \n"
     ]
    }
   ],
   "source": [
    "import re\n",
    "\n",
    "string_to_float = lambda x: re.sub(\"[$,]\", \"\", x) if x != None else 0\n",
    "\n",
    "jeopardy_data[\"Value (Float)\"] = jeopardy_data[\"Value\"].apply(string_to_float)\n",
    "print(jeopardy_data.head())"
   ]
  },
  {
   "cell_type": "markdown",
   "metadata": {},
   "source": [
    "5. Write a function that returns the count of unique answers to all of the questions in a dataset. For example, after filtering the entire dataset to only questions containing the word `\"King\"`, we could then find all of the unique answers to those questions. The answer \"Henry VIII\" appeared 55 times and was the most common answer."
   ]
  },
  {
   "cell_type": "code",
   "execution_count": 35,
   "metadata": {},
   "outputs": [
    {
     "name": "stdout",
     "output_type": "stream",
     "text": [
      "Question                                                                                                                                                                                       Answer                                              \n",
      "\" 'Cause I'm never gonna stop the rain by complaini                                                                                                                                            Butch Cassidy and the Sundance Kid                      1\n",
      "\" 'Charge' was the captain's cry; theirs not to reason why, theirs not to make reply\"                                                                                                          Alfred Lord Tennyson (\"Charge of the Light Brigade\")    1\n",
      "\" 'I'm going to the racetrac                                                                                                                                                                   Tom Swifty                                              1\n",
      "\" _____  \" & \" ____ in the Air\"                                                                                                                                                                Up                                                      1\n",
      "\" _____ Hills, 90210\"                                                                                                                                                                          B-E-V-E-R-L-Y                                           1\n",
      "                                                                                                                                                                                                                                                      ..\n",
      "…to Italy, where we tasted tiramisu, which was yummy, & gorgonzola, a type of this, which was yucky!                                                                                           cheese                                                  1\n",
      "…to New York City where we visited the Museum of Modern Art & saw this man's famous painting, <a href=\"http://www.j-archive.com/media/2005-10-10_J_30.jpg\" target=\"_blank\">\"Starry Night\"</a>  Vincent Van Gogh                                        1\n",
      "…to Paris, France where we saw this famous landmark that's pictured <a href=\"http://www.j-archive.com/media/2005-10-10_J_24.jpg\" target=\"_blank\">here</a>                                      the Eiffel Tower                                        1\n",
      "…to this U.S. city where we got to see Mt. Rainier form the top of the Space Needle                                                                                                            Seattle                                                 1\n",
      "…want to compete in dressage, so she'll have to take these lessons                                                                                                                             riding lessons                                          1\n",
      "Name: Answer, Length: 216546, dtype: int64\n",
      "China                             216\n",
      "Australia                         215\n",
      "Japan                             196\n",
      "Chicago                           194\n",
      "France                            193\n",
      "                                 ... \n",
      "the barre (or bar)                  1\n",
      "grams                               1\n",
      "the Hopis                           1\n",
      "free parking                        1\n",
      "Grigori Alexandrovich Potemkin      1\n",
      "Name: Answer, Length: 88268, dtype: int64\n"
     ]
    }
   ],
   "source": [
    "def unique_answer_count(data):\n",
    "    new_df = data.groupby([\"Question\", \"Answer\"])[\"Answer\"].count()\n",
    "    print(new_df)\n",
    "    \n",
    "unique_answer_count(jeopardy_data)"
   ]
  },
  {
   "cell_type": "markdown",
   "metadata": {},
   "source": [
    "6. Explore from here! This is an incredibly rich dataset, and there are so many interesting things to discover. There are a few columns that we haven't even started looking at yet. Here are some ideas on ways to continue working with this data:\n",
    "\n",
    " * Investigate the ways in which questions change over time by filtering by the date. How many questions from the 90s use the word `\"Computer\"` compared to questions from the 2000s?\n",
    " * Is there a connection between the round and the category? Are you more likely to find certain categories, like `\"Literature\"` in Single Jeopardy or Double Jeopardy?\n",
    " * Build a system to quiz yourself. Grab random questions, and use the <a href=\"https://docs.python.org/3/library/functions.html#input\">input</a> function to get a response from the user. Check to see if that response was right or wrong."
   ]
  },
  {
   "cell_type": "code",
   "execution_count": null,
   "metadata": {},
   "outputs": [],
   "source": []
  },
  {
   "cell_type": "markdown",
   "metadata": {},
   "source": [
    "## Solution"
   ]
  },
  {
   "cell_type": "markdown",
   "metadata": {},
   "source": [
    "7. Compare your program to our <a href=\"https://content.codecademy.com/PRO/independent-practice-projects/jeopardy/jeopardy_solution.zip\">sample solution code</a> - remember, that your program might look different from ours (and probably will) and that's okay!"
   ]
  },
  {
   "cell_type": "markdown",
   "metadata": {},
   "source": [
    "8. Great work! Visit <a href=\"https://discuss.codecademy.com/t/this-is-jeopardy-challenge-project-python-pandas/462365\">our forums</a> to compare your project to our sample solution code. You can also learn how to host your own solution on GitHub so you can share it with other learners! Your solution might look different from ours, and that's okay! There are multiple ways to solve these projects, and you'll learn more by seeing others' code."
   ]
  },
  {
   "cell_type": "code",
   "execution_count": null,
   "metadata": {},
   "outputs": [],
   "source": []
  }
 ],
 "metadata": {
  "kernelspec": {
   "display_name": "Python 3 (ipykernel)",
   "language": "python",
   "name": "python3"
  },
  "language_info": {
   "codemirror_mode": {
    "name": "ipython",
    "version": 3
   },
   "file_extension": ".py",
   "mimetype": "text/x-python",
   "name": "python",
   "nbconvert_exporter": "python",
   "pygments_lexer": "ipython3",
   "version": "3.8.16"
  }
 },
 "nbformat": 4,
 "nbformat_minor": 2
}
